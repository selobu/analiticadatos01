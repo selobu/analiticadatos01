{
 "cells": [
  {
   "cell_type": "markdown",
   "id": "e83bda18",
   "metadata": {},
   "source": [
    "# Conclusiones\n",
    "\n",
    "1. Python es un lenguaje de muy fácil aprendizaje y de uso hoy en día en la ciencia de datos, este también se\n",
    "   utiliza en compañia de lenguajes funcionales que permiten un escalado mejor como el lenguaje scala y la \n",
    "   librería pyspark que permite manejar información contenida en teras -big data. Ver \n",
    "   [pyspark](https://spark.apache.org/docs/latest/api/python/index.html) para mas detalles.\n",
    "\n",
    "2. La ventaja hoy día en el análisis de datos es que muchos de los lenguajes son gratuitos y se puede interactuar\n",
    "   con estos muy fácilmente, también\n",
    "\n",
    "3. Los entornos virtuales permiten probar nueva información en entornos controlados que no afectas otras instalaciones\n",
    "   y funcionalidades.\n",
    "\n",
    "## Analítica de datos\n",
    "\n",
    "1. Es necesario conocer las necesidades de la organización para poder saber como procesar los datos y\n",
    "   como contribuir a las metas con los resultados obtenidos.\n",
    "\n",
    "2. Una metodología adecuada permite realizar una preparación óptima de los datos antes de procesado.\n",
    "\n",
    "\n",
    "```{seealso}\n",
    "[Infografía analítica de datos](https://infografiaadsumdm.gestionhseq.com/), descripción del procedimiento ASUMDM de \n",
    "IBM.\n",
    "```\n",
    "\n",
    "## Python jupyther\n",
    "\n",
    "1. El entorno de programación web interactivo es muy fácil de utilizar pero carece de la inteligencia de autocompletado\n",
    "   que muchos ide tiene hoy en día.\n",
    "   \n",
    "2. Anaconda provee un sistema para manejar entornos virtuales de programación con la facilidad visual de actualizar libreofficeías.\n",
    "\n",
    "3. Es posible correr entornos listos para la analítica de datos con imágenes de Docker y pyspark.\n",
    "\n",
    "## Gráficos\n",
    "\n",
    "1. Los gráficos permiten realizar una interpretación visual de los datos y sus interacciones\n",
    "\n",
    "2. Mediante una gráfica se pueden interpretar los resultados que sería muy difícil de interpretar de otra manera, también\n",
    "   permite comunicar a otras personas los resultados del procesamiento de otra información.\n",
    "\n",
    "```\n",
    "jupyter-book myst init path/to/markdownfile.md\n",
    "```"
   ]
  }
 ],
 "metadata": {
  "jupytext": {
   "cell_metadata_filter": "-all",
   "formats": "md:myst",
   "text_representation": {
    "extension": ".md",
    "format_name": "myst",
    "format_version": 0.13,
    "jupytext_version": "1.11.5"
   }
  },
  "kernelspec": {
   "display_name": "Python 3",
   "language": "python",
   "name": "python3"
  },
  "language_info": {
   "codemirror_mode": {
    "name": "ipython",
    "version": 3
   },
   "file_extension": ".py",
   "mimetype": "text/x-python",
   "name": "python",
   "nbconvert_exporter": "python",
   "pygments_lexer": "ipython3",
   "version": "3.9.13"
  },
  "source_map": [
   14
  ]
 },
 "nbformat": 4,
 "nbformat_minor": 5
}