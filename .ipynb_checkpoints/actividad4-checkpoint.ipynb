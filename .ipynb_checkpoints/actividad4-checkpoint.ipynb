{
 "cells": [
  {
   "cell_type": "markdown",
   "id": "cb3f893b-09dd-4dea-a1aa-deb08cc63402",
   "metadata": {},
   "source": [
    "# Estudio de caso: análisis exploratorio de datos\n",
    "\n",
    "La empresa A&A Ltda, empieza un proceso de implementación de Machine Learning, usted ha sido designado para una de las tareas más importante dentro del proyecto, el cual consisten en realizar el análisis exploratorio de los datos y documentar los resultados encontrados, generando un informe que involucre los procedimientos y los resultados. \n",
    "El archivo que se analizara corresponde a precios de viviendas y locales para la venta y la colección de datos cuenta con variables que se ven involucradas en ese valor.\n",
    "La información se encuentra en el siguiente [enlace](https://www.datos.gov.co/Hacienda-y-Cr-dito-P-blico/Inmuebles-Disponibles-Para-La-Venta/72gd-px77/data)  la cual usted debe descargar e importar con la herramienta anaconda, el archivo lo puede exportar en formato CSV.\n",
    "\n",
    "[vínculo de descarga](https://www.datos.gov.co/api/views/72gd-px77/rows.csv?accessType=DOWNLOAD)"
   ]
  },
  {
   "cell_type": "markdown",
   "id": "0d836178-dc1a-42c6-9ce4-bff7c1d54391",
   "metadata": {},
   "source": [
    "El informe debe dar cuenta de:\n",
    "* Procedimiento para la importación del archivo en formato CSV\n",
    "* Plante una pregunta objetivo\n",
    "* Total, de Registros\n",
    "* Total, de columnas\n",
    "* Detallado de cada columna\n",
    "* Identificar cuáles de las columnas son categóricas y numéricas\n",
    "* Identifique en que columnas existen valores nulos\n",
    "* Identifique si existen registros duplicados\n",
    "* Realice un reporte estadístico de los datos numéricos (media, moda, mediana, desviación estándar, cuartiles, entre otros que considere)\n",
    "* Identifique columnas con valores erróneos\n",
    "* Utilice gráficos para identificar valores atípicos\n",
    "* Realice histogramas de frecuencia\n",
    "* Use la herramienta para gráficos para determinar correlación entre variables\n",
    "* Realice y explique la eliminación de datos nulos y duplicados\n",
    "* Agrupe columnas que considere pueden generar información importante\n",
    "* Cree nuevas columnas a partir de las existentes\n",
    "* Identifique columnas que no aportan de acuerdo con su pregunta objetivo\n",
    "* Realice conclusiones sobre las variables que considere tienen mayor relevancia\n",
    "* Dejar documentado usando gráficos y capturas de pantalla todo el proceso realizado.\n"
   ]
  },
  {
   "cell_type": "markdown",
   "id": "5a40ce56-6bcc-4812-85db-f20ab8f8b1e4",
   "metadata": {},
   "source": [
    "Se importa pandas"
   ]
  },
  {
   "cell_type": "code",
   "execution_count": null,
   "id": "bacfa1a5-bb1d-4ea9-9cf2-dd5e515cddff",
   "metadata": {},
   "outputs": [],
   "source": [
    "import pandas as pd"
   ]
  },
  {
   "cell_type": "markdown",
   "id": "af942013-236f-4b9c-a359-bfe2edaf7717",
   "metadata": {},
   "source": [
    "## Solución\n",
    "\n",
    "### 1) Procedimiento para la importación del archivo en formato CSV"
   ]
  },
  {
   "cell_type": "code",
   "execution_count": null,
   "id": "af2838a1-d0ef-4d8a-bcb4-fce35228c96b",
   "metadata": {},
   "outputs": [],
   "source": [
    "filename = 'Inmuebles_Disponibles_Para_La_Venta.csv'"
   ]
  },
  {
   "cell_type": "code",
   "execution_count": null,
   "id": "47d5e59c-3462-4be1-b10c-df5244e7abed",
   "metadata": {},
   "outputs": [],
   "source": [
    "data = pd.read_csv(filename)\n",
    "# se ajusta el precio dividido entre 1000_000 para entender mejor la información\n",
    "data['Precio'] = data['Precio']/1000_000;"
   ]
  },
  {
   "cell_type": "markdown",
   "id": "7151ef23-5a7a-4f8e-9d02-85e8b4e54045",
   "metadata": {},
   "source": [
    "### 2) Plantee una pregunta objetivo"
   ]
  },
  {
   "cell_type": "markdown",
   "id": "b970de59-8f66-4712-ae92-a4276be5cb2b",
   "metadata": {},
   "source": [
    "Describir el mercado actual de viviendas en Colombia comparando el valor de precios por estrato y localidad"
   ]
  },
  {
   "cell_type": "markdown",
   "id": "cb0857be-06b3-42db-a889-a0e5008da25c",
   "metadata": {},
   "source": [
    "### 3) Total, de Registros"
   ]
  },
  {
   "cell_type": "code",
   "execution_count": null,
   "id": "1bf20b6c-a665-47eb-9770-450125421016",
   "metadata": {},
   "outputs": [],
   "source": [
    "totalregistros = data['Codigo'].count()\n",
    "print(f'total registros {totalregistros}')\n",
    "# en forma alternativa \n",
    "data.shape[0]"
   ]
  },
  {
   "cell_type": "markdown",
   "id": "7b72571e-bb3f-4e26-a3aa-a69bebbb1ba7",
   "metadata": {},
   "source": [
    "### 4) Total de columnas"
   ]
  },
  {
   "cell_type": "code",
   "execution_count": null,
   "id": "4e68197d-ab6d-4157-b5ce-d570709f11ec",
   "metadata": {},
   "outputs": [],
   "source": [
    "totalcolumnas = data.shape[1];\n",
    "print(f'total columnas {totalcolumnas}')"
   ]
  },
  {
   "cell_type": "markdown",
   "id": "9a053e80-d2cc-4ff3-bb30-ff6357054e82",
   "metadata": {},
   "source": [
    "### 5) Detallado de cada columna"
   ]
  },
  {
   "cell_type": "code",
   "execution_count": null,
   "id": "005fef88-c58b-445f-919b-3492eb1d38b9",
   "metadata": {},
   "outputs": [],
   "source": [
    "data.info()"
   ]
  },
  {
   "cell_type": "markdown",
   "id": "242c9fec-34f6-47a3-bfbc-97cd43533f9d",
   "metadata": {},
   "source": [
    "### 6) Identificar cuáles de las columnas son categóricas y numéricas"
   ]
  },
  {
   "cell_type": "code",
   "execution_count": null,
   "id": "4c1c444e-da18-4d70-b949-c8208164a493",
   "metadata": {},
   "outputs": [],
   "source": [
    "info = data.dtypes "
   ]
  },
  {
   "cell_type": "code",
   "execution_count": null,
   "id": "85b15a85-15a9-4262-8df6-7f6c545a8447",
   "metadata": {},
   "outputs": [],
   "source": [
    "res = dict((key, 'Numérica') if value == 'int64' else (key, 'Categórica') for key, value in info.items())\n",
    "# se muestra como un dataframe\n",
    "pd.DataFrame({'Columna': res.keys(),'tipo': res.values()})"
   ]
  },
  {
   "cell_type": "markdown",
   "id": "daa1c5bb-f24d-4a16-807c-e7b88de24e0f",
   "metadata": {},
   "source": [
    "### 7) Identifique en que columnas existen valores nulos"
   ]
  },
  {
   "cell_type": "code",
   "execution_count": null,
   "id": "4cff0d6c-5b87-42ea-b6d3-e4f830ef5da1",
   "metadata": {},
   "outputs": [],
   "source": [
    "with_null = dict()\n",
    "for key, value in data.isna().sum().items():\n",
    "    if value > 0:\n",
    "        with_null[key] = value\n",
    "pd.DataFrame({'Columnas': with_null.keys(), 'Nulos':with_null.values() })"
   ]
  },
  {
   "cell_type": "markdown",
   "id": "9d8b0bb5-2a2f-42e0-9f65-c7fb3debdb74",
   "metadata": {},
   "source": [
    "## 8) Identifique si existen registros duplicados"
   ]
  },
  {
   "cell_type": "code",
   "execution_count": null,
   "id": "ea189ae4-7620-4198-bdea-cdc5b4eac317",
   "metadata": {},
   "outputs": [],
   "source": [
    "newdata = data.drop_duplicates()\n",
    "# Se hace una segunda prueba con multiples columnas\n",
    "newdata = newdata.drop_duplicates(subset=['Ciudad','Departamento','Barrio','Direccion'])\n",
    "duplicados = data.shape[0]- newdata.shape[0]\n",
    "if duplicados == 0:\n",
    "    print('No se encontraron datos repetidos')        \n",
    "else:\n",
    "    print(f'Hay {duplicados} registros duplicados, se procede a reemplazar la variable data con con contenidos de newdata')\n",
    "    data = newdata"
   ]
  },
  {
   "cell_type": "code",
   "execution_count": null,
   "id": "37935f7c-c9e7-42e9-9ca9-4c0c2ab6b34f",
   "metadata": {},
   "outputs": [],
   "source": [
    "print(f'El estudio se realizará con {data.shape[0]} filas')"
   ]
  },
  {
   "cell_type": "markdown",
   "id": "a61c6add-b0bc-46fa-9e8f-157a452c64d8",
   "metadata": {},
   "source": [
    "### 9) Realice un reporte estadístico de los datos numéricos (media, moda, mediana, desviación estándar, cuartiles, entre otros que considere)"
   ]
  },
  {
   "cell_type": "code",
   "execution_count": null,
   "id": "0c17d404-a9e7-4f0e-bb1c-1f01ed12727e",
   "metadata": {},
   "outputs": [],
   "source": [
    "data.describe()"
   ]
  },
  {
   "cell_type": "code",
   "execution_count": null,
   "id": "9b6d6fdb-96b3-4fe2-9c15-00ac07ed67c8",
   "metadata": {},
   "outputs": [],
   "source": [
    "import matplotlib.pyplot as plt\n",
    "fig = data.boxplot(\"Precio\", by=\"Departamento\");\n",
    "muestras = data.shape[0];\n",
    "plt.ylabel('precio');\n",
    "plt.suptitle('');\n",
    "plt.xticks(rotation=75);\n",
    "plt.title(f'Boxplot valor por condición {muestras} muestras');"
   ]
  },
  {
   "cell_type": "markdown",
   "id": "8d497036-7b4c-48c7-bdc5-585823defe76",
   "metadata": {},
   "source": [
    "## Estudio de precio por cuidad y tipo de inmueble\n",
    "\n",
    "Siempre y cuando la muestra total sea representativa (mas de 15 muestras)"
   ]
  },
  {
   "cell_type": "code",
   "execution_count": null,
   "id": "2cf75059-7463-49bd-9764-1f8fa328690b",
   "metadata": {},
   "outputs": [],
   "source": [
    "norepre = dict()\n",
    "for tipoinmueble in data['Tipo de Inmueble'].unique():\n",
    "    muestras = data[data['Tipo de Inmueble'] == tipoinmueble].shape[0]\n",
    "    if muestras < 11:\n",
    "        norepre[tipoinmueble] = muestras\n",
    "        continue\n",
    "    fig = data[data['Tipo de Inmueble'] == tipoinmueble].boxplot(\"Precio\", by=\"Departamento\")\n",
    "    plt.ylabel('precio')\n",
    "    plt.suptitle('')\n",
    "    plt.xticks(rotation=75);\n",
    "    plt.title(f'Tipo inmueble {tipoinmueble} sobre {muestras} muestras')\n",
    "print('Inmuebles no representativos por categoría')\n",
    "pd.DataFrame({'Tipo inmueble':norepre.keys(),'muestras':norepre.values()})"
   ]
  },
  {
   "cell_type": "code",
   "execution_count": null,
   "id": "9f084484-ec04-40b6-b948-fbd4d672e5af",
   "metadata": {},
   "outputs": [],
   "source": [
    "import matplotlib.pyplot as plt"
   ]
  },
  {
   "cell_type": "code",
   "execution_count": null,
   "id": "0447171a-dddc-4d5f-ae23-51806ea82005",
   "metadata": {},
   "outputs": [],
   "source": [
    "# se identifica la cantida de diferenes departamentos en la muestra\n",
    "def showbycity(departamento, minimo = 11):\n",
    "    dpto = departamento.upper()\n",
    "    muestras = data[data['Departamento'] == dpto].shape[0]\n",
    "    if muestras < minimo:\n",
    "        return (dpto, muestras)\n",
    "    fig = data[data['Departamento'] == dpto].boxplot(\"Precio\",by=\"Ciudad\")\n",
    "    plt.ylabel('Precio')\n",
    "    plt.xticks(rotation=45);\n",
    "    plt.suptitle('')\n",
    "    plt.title(f'{dpto} valor por condición, {muestras} muestras')"
   ]
  },
  {
   "cell_type": "markdown",
   "id": "9497bfb0-025f-4866-a1d2-b3c8ff883c5b",
   "metadata": {},
   "source": [
    "# Estudio comparativo de variación de precios por cuidad"
   ]
  },
  {
   "cell_type": "code",
   "execution_count": null,
   "id": "f42c6372-a788-48cb-a1af-b5630a2196da",
   "metadata": {},
   "outputs": [],
   "source": [
    "# se identifican todas las cuidades\n",
    "res = dict()\n",
    "for departamento in data['Departamento'].unique():\n",
    "    val = showbycity(departamento, minimo=10)\n",
    "    if val is None:\n",
    "        continue\n",
    "    res[val[0]] = val[1]\n",
    "print('Omitidos en este punto por cantidad de muestras insuficientes')\n",
    "pd.DataFrame({'Departamento': res.keys() , 'Muestras':res.values()})"
   ]
  },
  {
   "cell_type": "markdown",
   "id": "0ac651f5-1389-4c06-8c86-3111175cb3a4",
   "metadata": {},
   "source": [
    "## Estudio comparativo de variación de precios por estrato\n",
    "Se convierte los valores de estrato a numéricos en una nueva columna, para que muestre los gráficos en orden"
   ]
  },
  {
   "cell_type": "code",
   "execution_count": null,
   "id": "affc3ced-ea1b-4a34-ac12-dd421cee1fcc",
   "metadata": {},
   "outputs": [],
   "source": [
    "data['Estrato'].unique()\n",
    "mapa={'UNO':1,\n",
    "      'DOS':2,\n",
    "      'TRES':3,\n",
    "      'CUATRO':4,\n",
    "      'CINCO':5,\n",
    "      'SEIS':6,\n",
    "      'RURAL': 8,\n",
    "      'COMERCIAL':9,\n",
    "      'INDUSTRIAL':10,\n",
    "     }\n",
    "data['Estrato_num'] = data.apply(lambda row: mapa[row.Estrato], axis = 1)\n",
    "data.head(5)"
   ]
  },
  {
   "cell_type": "markdown",
   "id": "e8dd44f8-5d32-420c-81e9-a1df6136d06f",
   "metadata": {},
   "source": [
    "### 10) Identifique columnas con valores erróneos"
   ]
  },
  {
   "cell_type": "markdown",
   "id": "36308c81-370a-4b56-9ee4-7330f39dbc6f",
   "metadata": {},
   "source": [
    "Para este punto uno de los validadores corresponde al área de terreno debe se mayor a cero, también el áre construida. Los reportes de los registros con valores erróneos se haran en archivos locales en formato csv"
   ]
  },
  {
   "cell_type": "code",
   "execution_count": null,
   "id": "491fd1e0-86e8-48b9-b8bf-0dfea219644f",
   "metadata": {},
   "outputs": [],
   "source": [
    "sin_area = data[data['Area Terreno'] == 0]['Area Terreno'].count();\n",
    "print(f'Cantidad de registros sin area {sin_area}')"
   ]
  },
  {
   "cell_type": "markdown",
   "id": "98b32338-38a0-41ab-bf13-6d795a1827a1",
   "metadata": {},
   "source": [
    "### 11) Utilice gráficos para identificar valores atípicos\n",
    "\n",
    "Ya se pueden visualizar en los puntos representados en los boxplot del punto anterior"
   ]
  },
  {
   "cell_type": "code",
   "execution_count": null,
   "id": "84ed8988-2fd2-44bc-a2e4-078793558945",
   "metadata": {},
   "outputs": [],
   "source": [
    "# se busca relacion entre el estrato y el valor de la vivenda\n",
    "ax = data.boxplot('Precio', by='Estrato_num');\n",
    "plt.suptitle('');\n",
    "plt.ylim(0,100_000_000)# se modifican los límites para observar mejor los datos\n",
    "plt.ylabel('Valor')\n",
    "plt.xlabel('Estrato')\n",
    "#plt.xticks(rotation=45);\n",
    "ax.set_xticklabels(mapa.keys(), rotation='vertical', fontsize=10);"
   ]
  },
  {
   "cell_type": "markdown",
   "id": "7d22eb22-cec4-435a-9fb9-2c6e1d96a83e",
   "metadata": {},
   "source": [
    "### 12) Realice histogramas de frecuencia\n",
    "\n",
    "Se graficarán:\n",
    "* Cantidad de reportes por estrato\n",
    "* Cantidad de reportes por departamento\n",
    "* Rango de valores de vivienda"
   ]
  },
  {
   "cell_type": "code",
   "execution_count": null,
   "id": "ef679c40-e91a-4cf7-a562-3a66c64451ec",
   "metadata": {},
   "outputs": [],
   "source": [
    "# se define el rango de valores a graficar\n",
    "from math import ceil\n",
    "bins = 100\n",
    "minimo = data['Precio'].min(axis=0);\n",
    "maximo = data['Precio'].max(axis=0);"
   ]
  },
  {
   "cell_type": "code",
   "execution_count": null,
   "id": "e4d9e760-9d74-4d8f-994d-626b2afb7643",
   "metadata": {},
   "outputs": [],
   "source": [
    "def get_hist_values(data, minimo, maximo, bins):\n",
    "    values = list();\n",
    "    delta = ceil((maximo -minimo)/bins);\n",
    "    initvalue = minimo;\n",
    "    endvalue = minimo + delta;\n",
    "    names = []\n",
    "    inits = []\n",
    "    ended = []\n",
    "    cantidad = [] \n",
    "    k=1\n",
    "    while initvalue < maximo:\n",
    "        localmax = initvalue + delta + 0.01\n",
    "        names.append(k)\n",
    "        inits.append(initvalue)\n",
    "        ended.append(localmax)\n",
    "        cantidad.append(data[(data['Precio'] >= initvalue) & (data['Precio'] < localmax)].shape[0])\n",
    "        initvalue = localmax\n",
    "        k +=1\n",
    "    print('Datos para construir el histograma');\n",
    "    res = pd.DataFrame({'id': names, 'cantidad': cantidad, 'inicial': inits,'final':ended});\n",
    "    return res"
   ]
  },
  {
   "cell_type": "code",
   "execution_count": null,
   "id": "7930f330-2c24-477d-94f2-8691ef06320a",
   "metadata": {},
   "outputs": [],
   "source": [
    "res = get_hist_values(data, minimo, maximo, bins)\n",
    "res.head(20)"
   ]
  },
  {
   "cell_type": "markdown",
   "id": "8375eff1-a8a4-4d22-8309-c72823e24a80",
   "metadata": {},
   "source": [
    "Con base en el punto anterior se nota que la mayor cantida de datos, 429, está hasta el valor de 76950021, por lo que se ajusta este como el valor límite y se corre nuevamente la función"
   ]
  },
  {
   "cell_type": "code",
   "execution_count": null,
   "id": "7649dff1-7c6d-47d6-9436-c84060c7c2cb",
   "metadata": {},
   "outputs": [],
   "source": [
    "res = get_hist_values(data, minimo, 76950021 , bins=200)\n",
    "res.head(20)\n",
    "#ax.set_xticklabels(res['inicial'], rotation='vertical', fontsize=10);\n",
    "# se procede a graficar"
   ]
  },
  {
   "cell_type": "code",
   "execution_count": null,
   "id": "625edd80-b760-41f9-9bf7-0c7083085b0d",
   "metadata": {},
   "outputs": [],
   "source": [
    "ax = plt.bar(res['id'], res['cantidad']);\n",
    "plt.ylabel(\"Cantidad\");\n",
    "plt.xlabel('Precios');\n",
    "plt.title('histograma distribución de precios');"
   ]
  },
  {
   "cell_type": "code",
   "execution_count": null,
   "id": "ff477f14-e13c-4ca9-a5af-655b9fe66fae",
   "metadata": {},
   "outputs": [],
   "source": [
    "# gráfica ampliada\n",
    "res = get_hist_values(data, minimo, 447773.01 , bins=200)\n",
    "res.head(20)"
   ]
  },
  {
   "cell_type": "code",
   "execution_count": null,
   "id": "fbffddc4-61c7-42e1-b2e2-372a89f567fc",
   "metadata": {},
   "outputs": [],
   "source": [
    "# se procede a graficar\n",
    "axis = plt.bar(res['id'], res['cantidad']);\n",
    "plt.title('Histograma distribución de presios ampliado')\n",
    "plt.ylabel(\"Cantidad\");\n",
    "plt.xlabel('Precios');\n",
    "#plt.tick_params(axis='x', length=0)"
   ]
  },
  {
   "cell_type": "markdown",
   "id": "a52fffcd-c460-42d5-9b2c-608a9668d341",
   "metadata": {},
   "source": [
    "## Función para mejorar automáticamente el rango para hacer el estudio, sacando los datos abs\n",
    "Para ello el rango a utilizar será\n",
    "* límite inferior: Q2-1.5*IQR\n",
    "* Límite superior: Q3+1.5*IQR\n",
    "\n",
    "Donde Q2: es el cuartil 2, Q3: es el cuartil 3, IQR es el rango intercuartílico "
   ]
  },
  {
   "cell_type": "markdown",
   "id": "4c77b342-9ca1-4d98-80e9-e525c3628ee7",
   "metadata": {},
   "source": [
    "## Función para mejorar el cálculo del número de bins en forma automática\n",
    "\n",
    "Si bien el número de bins se puede poner de forma manual sería recomendable poder hacerlo de forma automática, para ello se utilizará la fórmula de [Sturge’s rule](https://en.wikipedia.org/wiki/Histogram)"
   ]
  },
  {
   "cell_type": "code",
   "execution_count": null,
   "id": "8b5e4678-2f55-4454-9450-e7bc2273b413",
   "metadata": {},
   "outputs": [],
   "source": [
    "import numpy as np\n",
    "def get_rango(data: pd.DataFrame, colname: str):\n",
    "    res = data[colname].describe()\n",
    "    q2 = res['25%']\n",
    "    q3 = res['75%']\n",
    "    iqr = q3-q2\n",
    "    minvalue = q2-1.5*iqr;\n",
    "    maxvalue = q3+1.5*iqr;\n",
    "    bins = int(np.ceil(np.log2(data.shape[0])) + 1)\n",
    "    return (max([0,minvalue]), maxvalue, max([1, bins]))"
   ]
  },
  {
   "cell_type": "code",
   "execution_count": null,
   "id": "334886fe-54d4-4efc-b5b2-f2517bffbd24",
   "metadata": {},
   "outputs": [],
   "source": [
    "maximo, minimo, bins = get_rango(data, 'Precio');\n",
    "print(f'Rango sugerido para el histograma {maximo} - {minimo}, intervalos = {bins} ')"
   ]
  },
  {
   "cell_type": "code",
   "execution_count": null,
   "id": "6bc6e04e-8a04-4e54-bfc1-0bd35051af12",
   "metadata": {},
   "outputs": [],
   "source": [
    "res = get_hist_values(data, maximo, minimo, bins)\n",
    "res.head(20)"
   ]
  },
  {
   "cell_type": "code",
   "execution_count": null,
   "id": "c3b775c5-38ae-4e14-bd81-2827580a8b7d",
   "metadata": {},
   "outputs": [],
   "source": [
    "axis = plt.bar(res['id'], res['cantidad']);\n",
    "plt.title('Histograma distribución de precios')\n",
    "plt.ylabel(\"Cantidad\");\n",
    "plt.xlabel('Indicador de precios');"
   ]
  },
  {
   "cell_type": "markdown",
   "id": "75910748-57a6-4354-8ae9-bdd464d46548",
   "metadata": {},
   "source": [
    "### 13 Use la herramienta para gráficos para determinar correlación entre variables"
   ]
  },
  {
   "cell_type": "markdown",
   "id": "f8fa2aff-bd78-4aa1-aa8c-9ddb61c4d68f",
   "metadata": {},
   "source": [
    "Del análisis de eliminaron las columnas de área y area construida por tener mas de 400 datos con valor cero"
   ]
  },
  {
   "cell_type": "code",
   "execution_count": null,
   "id": "594d0ed4-ce8c-42cf-8547-c57d6da75a1b",
   "metadata": {},
   "outputs": [],
   "source": [
    "import seaborn as sns"
   ]
  },
  {
   "cell_type": "code",
   "execution_count": null,
   "id": "3287c7d1-4939-4eba-84db-276c7cb09865",
   "metadata": {},
   "outputs": [],
   "source": [
    "corr = data[['Estrato_num','Codigo','Precio','Departamento']].corr()"
   ]
  },
  {
   "cell_type": "code",
   "execution_count": null,
   "id": "c267fd4d-8dfe-481c-a717-0b1ff8322406",
   "metadata": {},
   "outputs": [],
   "source": [
    "sns.heatmap(corr, linewidths=0.5, annot=True);"
   ]
  },
  {
   "cell_type": "markdown",
   "id": "57d427ee-9cc1-4e1a-8f2d-d516be171eec",
   "metadata": {},
   "source": [
    "Con base en la gráfica se puede notar que la mayor relación está entre el estrato y el código de la vivienda, sin embargo como este último es solo un consecutivo se puede concluir que por falta de información en cuanto a las áreas no es posible concluir sobre una relación al respecto"
   ]
  },
  {
   "cell_type": "markdown",
   "id": "40b53428-ada4-4526-8af0-1ab5e27e415c",
   "metadata": {},
   "source": [
    "### 14) Realice y explique la eliminación de datos nulos y duplicados"
   ]
  },
  {
   "cell_type": "markdown",
   "id": "92934b7b-0525-4e94-9055-584642f2d497",
   "metadata": {},
   "source": [
    "Desde el punto 8 se eliminaron los datos duplicados y en el punto 7 se presentaron las columnas con valores nulos, ahora se procederá a buscar los datos nulos en cuanto al precio"
   ]
  },
  {
   "cell_type": "code",
   "execution_count": null,
   "id": "b81ef528-50a7-4131-a339-6436ce917ca7",
   "metadata": {},
   "outputs": [],
   "source": [
    "data.info()"
   ]
  },
  {
   "cell_type": "markdown",
   "id": "930a4e80-3cde-4a15-ba3e-63d47994f4f2",
   "metadata": {},
   "source": [
    "Se filtran los contenidos con filas que tengan valores nulos en alguna de las columnas"
   ]
  },
  {
   "cell_type": "code",
   "execution_count": null,
   "id": "7d3aa679-ea90-4589-9a11-0b0258777464",
   "metadata": {},
   "outputs": [],
   "source": [
    "columns = [k for (k, value) in data.items()]"
   ]
  },
  {
   "cell_type": "code",
   "execution_count": null,
   "id": "500b3ba1-f95c-4049-8a93-962798a55e1c",
   "metadata": {},
   "outputs": [],
   "source": [
    "dt = data\n",
    "for k in columns:\n",
    "    dt = dt[dt[k].notnull()];\n",
    "dt.count()\n",
    "#dropped = data.dropna(how='all', axis=1);\n",
    "#dropped"
   ]
  },
  {
   "cell_type": "markdown",
   "id": "58677b60-f714-4bea-bf62-f6ea88ade38c",
   "metadata": {},
   "source": [
    "## Resultado filas sin ningún valor nulo"
   ]
  },
  {
   "cell_type": "code",
   "execution_count": null,
   "id": "a44a318c-8a8c-4a0a-b7b6-3e3807e41fc7",
   "metadata": {},
   "outputs": [],
   "source": [
    "dt.head(min([10,dt.shape[0]]))"
   ]
  },
  {
   "cell_type": "markdown",
   "id": "68802030-0ec3-43ef-b8f6-656f6ed96fc0",
   "metadata": {},
   "source": [
    "### 15) Agrupe columnas que considere pueden generar información importante\n",
    "### 16) Cree nuevas columnas a partir de las existentes"
   ]
  },
  {
   "cell_type": "markdown",
   "id": "b94858bf-c6e9-4228-82b9-9dd9a687edb4",
   "metadata": {},
   "source": [
    "Se creará una columna nivel que agrupa las columnas de estrato y barrio"
   ]
  },
  {
   "cell_type": "code",
   "execution_count": null,
   "id": "78b65230-0289-45b3-bcda-0a9773643c40",
   "metadata": {},
   "outputs": [],
   "source": [
    "data['Nivel'] = data.apply(lambda row: f'{row.Estrato_num} - {row.Barrio}', axis=1)\n",
    "data.head(10)"
   ]
  },
  {
   "cell_type": "markdown",
   "id": "7c28dd60-bdd7-4996-8fe2-4b1499295baf",
   "metadata": {},
   "source": [
    "### 17) Identifique columnas que no aportan de acuerdo con su pregunta objetivo"
   ]
  },
  {
   "cell_type": "markdown",
   "id": "e33e6195-b7f6-48b0-967c-90a005eec5db",
   "metadata": {},
   "source": [
    "Acorde con la información analizada se idenfica que las columnas que no aportan para el análisis son \n",
    "\n",
    "1. Codigo\n",
    "2. Area -  porque la mayoría son datos sin reportar o cero\n",
    "3. Detalle Disponibilidad\n",
    "4. Direccion"
   ]
  },
  {
   "cell_type": "markdown",
   "id": "46a2846a-8727-4b75-b0eb-890b565529dc",
   "metadata": {},
   "source": [
    "### 18) Realice conclusiones sobre las variables que considere tienen mayor relevancia"
   ]
  },
  {
   "cell_type": "markdown",
   "id": "ea8b4bfe-c8eb-4001-b1b5-064f0c7de431",
   "metadata": {},
   "source": [
    "Conclusiones:\n",
    "\n",
    "1. No se pudo realizar el análisis concluyente por no porder calcular el valor por metro cuadrado\n",
    "2. La mayor cantidad de datos reportador fueron hast  458_220 millones\n",
    "3. La mayor variablidad de precios se encuentra en el sector rural.\n",
    "4. La mayor información disponible está para los **locales** con 301 muestras.\n",
    "5. Para realizar una compra se deberá completar la información de las áreas y tomar una mejor desición con base en la evidencia\n"
   ]
  },
  {
   "cell_type": "markdown",
   "id": "797805e5-653c-4a10-aa61-bf7abedc7e4c",
   "metadata": {},
   "source": [
    "### 19) Dejar documentado usando gráficos y capturas de pantalla todo el proceso realizado."
   ]
  },
  {
   "cell_type": "markdown",
   "id": "8a4d1d08-2005-436a-b528-4c0a19ffc9a6",
   "metadata": {},
   "source": [
    "Se hizo por este medio"
   ]
  },
  {
   "cell_type": "code",
   "execution_count": null,
   "id": "2234cc37-cb3f-4799-9388-e9abe9254fd7",
   "metadata": {},
   "outputs": [],
   "source": []
  }
 ],
 "metadata": {
  "kernelspec": {
   "display_name": "Python 3 (ipykernel)",
   "language": "python",
   "name": "python3"
  },
  "language_info": {
   "codemirror_mode": {
    "name": "ipython",
    "version": 3
   },
   "file_extension": ".py",
   "mimetype": "text/x-python",
   "name": "python",
   "nbconvert_exporter": "python",
   "pygments_lexer": "ipython3",
   "version": "3.9.13"
  }
 },
 "nbformat": 4,
 "nbformat_minor": 5
}
